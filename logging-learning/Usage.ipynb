{
 "cells": [
  {
   "attachments": {},
   "cell_type": "markdown",
   "metadata": {},
   "source": [
    "# logging Usage"
   ]
  },
  {
   "attachments": {},
   "cell_type": "markdown",
   "metadata": {},
   "source": [
    "## 日志基础教程"
   ]
  },
  {
   "attachments": {},
   "cell_type": "markdown",
   "metadata": {},
   "source": [
    "日志是对软件执行时所发生事件的一种追踪方式。软件开发人员对他们的代码添加日志调用，借此来指示某事件的发生。一个事件通过一些包含变量数据的描述信息来描述。开发者还会区分事件的重要性，重要性也被称为等级或严重性。"
   ]
  },
  {
   "attachments": {},
   "cell_type": "markdown",
   "metadata": {},
   "source": [
    "|你想要执行的任务|此任务最好的工具|\n",
    "|---------------|--------------|\n",
    "|结果显示在控制台|print()|\n",
    "|提交事件报告|logging.info()，当有诊断目的，需要详细输出信息时使用logging.debug()。\n",
    "|提出一个警告信息基于一个特殊的运行时事件|warnings.warn()需要修改应用以消除警告，logging.warning()需要引起关注|\n",
    "|报告错误|引发异常，raise Error|\n",
    "|报告错误而不引发异常|logging.error(),logging.exception()或logging.critical()|"
   ]
  },
  {
   "attachments": {},
   "cell_type": "markdown",
   "metadata": {},
   "source": [
    "日志功能应根据事件的级别或严重性选定。各级别适用性如下（以严重性递增）：\n",
    "|级别|何时使用|\n",
    "|----|-------|\n",
    "|DEBUG|细节信息，仅当诊断问题时适用。|\n",
    "|INFO|确认程序按预期运行。|\n",
    "|WARNING|表明有已经或即将发生的意外（如：磁盘空间不足）。程序仍按预期进行。|\n",
    "|ERROR|由于严重的问题，程序的某些功能已经不能正常执行|\n",
    "|CRITICAL|严重的错误，程序已不能继续执行|\n",
    "\n",
    "默认的级别是WARNING，意味着只会追踪该级别及以上的事件，除非更改日志配置。\n",
    "\n",
    "所追踪事件可以以不同形式处理。输出控制台或写入磁盘文件。"
   ]
  },
  {
   "cell_type": "code",
   "execution_count": 1,
   "metadata": {},
   "outputs": [],
   "source": [
    "import logging"
   ]
  },
  {
   "attachments": {},
   "cell_type": "markdown",
   "metadata": {},
   "source": [
    "一个简单的例子，因为默认的级别是WARNING，所以不会显示INFO的消息。"
   ]
  },
  {
   "cell_type": "code",
   "execution_count": 3,
   "metadata": {},
   "outputs": [
    {
     "name": "stderr",
     "output_type": "stream",
     "text": [
      "WARNING:root:Watch out!\n"
     ]
    }
   ],
   "source": [
    "logging.warning('Watch out!')  # will print a message to the console\n",
    "logging.info('I told you so')  # will not print anything"
   ]
  },
  {
   "attachments": {},
   "cell_type": "markdown",
   "metadata": {},
   "source": [
    "### 记录日志到文件\n",
    "第一次记录日志信息后自动配置日志信息，且无法更改配置。如需更改，需要重新导入logging模块。"
   ]
  },
  {
   "cell_type": "code",
   "execution_count": 20,
   "metadata": {},
   "outputs": [
    {
     "data": {
      "text/plain": [
       "<module 'logging' from 'c:\\\\Users\\\\95194\\\\miniconda3\\\\lib\\\\logging\\\\__init__.py'>"
      ]
     },
     "execution_count": 20,
     "metadata": {},
     "output_type": "execute_result"
    }
   ],
   "source": [
    "# import reload\n",
    "from importlib import reload\n",
    "reload(logging)"
   ]
  },
  {
   "cell_type": "code",
   "execution_count": 7,
   "metadata": {},
   "outputs": [],
   "source": [
    "logging.basicConfig(filename='example.log', encoding='utf-8', level=logging.DEBUG)\n",
    "logging.debug('This message should go to the log file')\n",
    "logging.info('So should this')\n",
    "logging.warning('And this, too')\n",
    "logging.error('And non-ASCII stuff, too, like Øresund and Malmö')"
   ]
  },
  {
   "attachments": {},
   "cell_type": "markdown",
   "metadata": {},
   "source": [
    "### 从命令行设定日志级别"
   ]
  },
  {
   "cell_type": "code",
   "execution_count": 8,
   "metadata": {},
   "outputs": [
    {
     "ename": "NameError",
     "evalue": "name 'loglevel' is not defined",
     "output_type": "error",
     "traceback": [
      "\u001b[1;31m---------------------------------------------------------------------------\u001b[0m",
      "\u001b[1;31mNameError\u001b[0m                                 Traceback (most recent call last)",
      "Cell \u001b[1;32mIn[8], line 1\u001b[0m\n\u001b[1;32m----> 1\u001b[0m \u001b[39mgetattr\u001b[39m(logging, loglevel\u001b[39m.\u001b[39mupper())\n",
      "\u001b[1;31mNameError\u001b[0m: name 'loglevel' is not defined"
     ]
    }
   ],
   "source": [
    "# 假设从命令行得到了loglevel参数，可以通过下面的方式来设置logging的level\n",
    "loglevel = args.loglevel\n",
    "numeric_level = getattr(logging, loglevel.upper(), None)\n",
    "if not isinstance(numeric_level, int):\n",
    "    raise ValueError('Invalid log level: %s' % loglevel)\n",
    "logging.basicConfig(..., level=numeric_level)"
   ]
  },
  {
   "attachments": {},
   "cell_type": "markdown",
   "metadata": {},
   "source": [
    "通过指定filemode控制文件写入方式是追加（a）还是替换（w)。"
   ]
  },
  {
   "cell_type": "code",
   "execution_count": null,
   "metadata": {},
   "outputs": [],
   "source": [
    "logging.basicConfig(filename='example.log', filemode='w', level=logging.DEBUG)"
   ]
  },
  {
   "attachments": {},
   "cell_type": "markdown",
   "metadata": {},
   "source": [
    "### 从多个模块记录日志\n",
    "如果程序包含多个模块，这是一个如何组织日志记录的示例："
   ]
  },
  {
   "cell_type": "code",
   "execution_count": 9,
   "metadata": {},
   "outputs": [],
   "source": [
    "# myapp.py\n",
    "import logging\n",
    "import mylib\n",
    "\n",
    "def main():\n",
    "    logging.basicConfig(filename='myapp.log', level=logging.INFO)\n",
    "    logging.info('Started')\n",
    "    mylib.do_something()\n",
    "    logging.info('Finished')\n",
    "\n",
    "if __name__ == '__main__':\n",
    "    main()"
   ]
  },
  {
   "cell_type": "code",
   "execution_count": null,
   "metadata": {},
   "outputs": [],
   "source": [
    "# mylib.py\n",
    "import logging\n",
    "\n",
    "def do_something():\n",
    "    logging.info('Doing something')"
   ]
  },
  {
   "attachments": {},
   "cell_type": "markdown",
   "metadata": {},
   "source": [
    "### 记录变量数据\n",
    "要记录变量数据，请使用格式字符串作为事件描述消息，并附加传入变量数据作为参数。例如："
   ]
  },
  {
   "cell_type": "code",
   "execution_count": 11,
   "metadata": {},
   "outputs": [
    {
     "name": "stderr",
     "output_type": "stream",
     "text": [
      "WARNING:root:Look before you leap!\n"
     ]
    }
   ],
   "source": [
    "logging.warning('%s before you %s', 'Look', 'leap!')"
   ]
  },
  {
   "attachments": {},
   "cell_type": "markdown",
   "metadata": {},
   "source": [
    "适用%-s形式的字符串格式化方法，是为了向后兼容。也可以适用较新的格式化选项例如:`str.format()`和`string.Template`。"
   ]
  },
  {
   "attachments": {},
   "cell_type": "markdown",
   "metadata": {},
   "source": [
    "### 更改显示消息的格式"
   ]
  },
  {
   "cell_type": "code",
   "execution_count": 18,
   "metadata": {},
   "outputs": [
    {
     "name": "stderr",
     "output_type": "stream",
     "text": [
      "DEBUG 2023-02-05 18:09:58,511 This message should appear on the console\n",
      "INFO 2023-02-05 18:09:58,512 So should this\n",
      "WARNING 2023-02-05 18:09:58,514 And this, too\n"
     ]
    }
   ],
   "source": [
    "logging.basicConfig(format='%(levelname)s %(asctime)s %(message)s', level=logging.DEBUG)\n",
    "logging.debug('This message should appear on the console')\n",
    "logging.info('So should this')\n",
    "logging.warning('And this, too')"
   ]
  },
  {
   "attachments": {},
   "cell_type": "markdown",
   "metadata": {},
   "source": [
    "可以通过`datefmt`控制日期时间的格式，格式与`time.strftime()`相同"
   ]
  },
  {
   "cell_type": "code",
   "execution_count": 21,
   "metadata": {},
   "outputs": [
    {
     "name": "stderr",
     "output_type": "stream",
     "text": [
      "DEBUG 02/05/2023 06:12:34 PM This message should appear on the console\n"
     ]
    }
   ],
   "source": [
    "logging.basicConfig(format='%(levelname)s %(asctime)s %(message)s', level=logging.DEBUG, datefmt='%m/%d/%Y %I:%M:%S %p')\n",
    "logging.debug('This message should appear on the console')"
   ]
  },
  {
   "attachments": {},
   "cell_type": "markdown",
   "metadata": {},
   "source": [
    "## 进阶日志教程\n",
    "日志库采用模块化方法，并提供几类组件：记录器、处理器、过滤器和格式器。\n",
    "- 记录器暴露了应用程序代码直接使用的接口。\n",
    "- 处理器将日志记录（由记录器创建）发送到适当的目标。\n",
    "- 过滤器提供了更细粒度的功能，用于确定要输出的日志记录。\n",
    "- 格式器指定最终输出中日志记录的样式。"
   ]
  },
  {
   "cell_type": "markdown",
   "metadata": {},
   "source": []
  }
 ],
 "metadata": {
  "kernelspec": {
   "display_name": "base",
   "language": "python",
   "name": "python3"
  },
  "language_info": {
   "codemirror_mode": {
    "name": "ipython",
    "version": 3
   },
   "file_extension": ".py",
   "mimetype": "text/x-python",
   "name": "python",
   "nbconvert_exporter": "python",
   "pygments_lexer": "ipython3",
   "version": "3.10.9"
  },
  "orig_nbformat": 4,
  "vscode": {
   "interpreter": {
    "hash": "cbf821b8ce343384a8043dfad0f363db8ea0aba4b4567ce3c2eef72db95fda6b"
   }
  }
 },
 "nbformat": 4,
 "nbformat_minor": 2
}
