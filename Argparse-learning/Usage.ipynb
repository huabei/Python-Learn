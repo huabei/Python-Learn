{
 "cells": [
  {
   "attachments": {},
   "cell_type": "markdown",
   "metadata": {},
   "source": [
    "# Argparse Usage"
   ]
  },
  {
   "attachments": {},
   "cell_type": "markdown",
   "metadata": {},
   "source": [
    "此模块是Python标准库中推荐的命令行解析模块"
   ]
  },
  {
   "attachments": {},
   "cell_type": "markdown",
   "metadata": {},
   "source": [
    "## 概念\n",
    "利用ls命令来展示这篇教程中探索的功能:\n",
    "```shell\n",
    "$ ls\n",
    "$ ls pypy\n",
    "$ ls -l\n",
    "$ ls --help \n",
    "Usage: ls [OPTION]... [FILE]...\n",
    "List information about the FILES ....。\n",
    "```\n",
    "我们可以从这四个命令中学到几个概念：\n",
    "- ls是一个即使在运行的时候没有提供任何选项，也非常有用的命令。在默认情况下他会输出当前文件夹包含的问价和文件夹。\n",
    "- 如果我们想要适用比它默认提供的更多功能，我们需要告诉该命令更多信息。在这个例子里，我们想要查看一个不同的目录，pypy，我们所做的是指定所谓的位置参数。之所以这样命名，是因为程序应该如何处理该参数值，完全取决于它在命令行出现的位置。更能体现这个概念的命令如`cp`。\n",
    "- 现在假设我们想要改变这个程序的行为。在我们的例子中，我们不仅仅是输出每个文件的文件名，还输出了更多信息。在这个例子中，`-l`被称为可选参数。\n",
    "- 这是一段帮助文档的文字。它是非常有用的，因为当你遇到一个你从未使用过的程序时，你可以通过阅读它的帮助文档来弄清楚它是如何运行的。\n",
    "\n"
   ]
  },
  {
   "attachments": {},
   "cell_type": "markdown",
   "metadata": {},
   "source": [
    "## 基础\n",
    "让我们从一个简单到（几乎）什么也做不了的例子开始："
   ]
  },
  {
   "cell_type": "code",
   "execution_count": null,
   "metadata": {},
   "outputs": [],
   "source": [
    "import argparse\n",
    "parser = argparse.ArgumentParser()\n",
    "parser.parse_args()"
   ]
  },
  {
   "attachments": {},
   "cell_type": "markdown",
   "metadata": {},
   "source": [
    "### 位置参数介绍\n",
    "举个例子："
   ]
  },
  {
   "cell_type": "code",
   "execution_count": null,
   "metadata": {},
   "outputs": [],
   "source": [
    "parser.add_argument('echo', help='This is echo', type=int)\n",
    "args = parser.parse_args()\n",
    "print(args.echo)"
   ]
  },
  {
   "attachments": {},
   "cell_type": "markdown",
   "metadata": {},
   "source": [
    "## 可选参数介绍"
   ]
  },
  {
   "cell_type": "code",
   "execution_count": null,
   "metadata": {},
   "outputs": [],
   "source": [
    "parser = argparse.ArgumentParser()\n",
    "parser.add_argument(\"-v\", \"--verbosity\", help=\"increase output verbosity\", action=\"store_true\", default=False)\n",
    "args = parser.parse_args()"
   ]
  },
  {
   "attachments": {},
   "cell_type": "markdown",
   "metadata": {},
   "source": [
    "### 矛盾的选项\n",
    "`argparse.ArgumentParser`的第三个方法`add_mutually_exclusive_group()`。它允许我们指定彼此相互冲突的选项。`-v` 和 `-q` 不能够同时指定。"
   ]
  },
  {
   "cell_type": "code",
   "execution_count": null,
   "metadata": {},
   "outputs": [],
   "source": [
    "parser = argparse.ArgumentParser()\n",
    "group = parser.add_mutually_exclusive_group()\n",
    "group.add_argument(\"-v\", \"--verbose\", action=\"store_true\")\n",
    "group.add_argument(\"-q\", \"--quiet\", action=\"store_true\")\n",
    "parser.add_argument(\"x\", type=int, help=\"the base\")\n",
    "parser.add_argument(\"y\", type=int, help=\"the exponent\")\n",
    "args = parser.parse_args()"
   ]
  },
  {
   "cell_type": "code",
   "execution_count": null,
   "metadata": {},
   "outputs": [],
   "source": []
  }
 ],
 "metadata": {
  "kernelspec": {
   "display_name": "Python 3",
   "language": "python",
   "name": "python3"
  },
  "language_info": {
   "name": "python",
   "version": "3.9.13"
  },
  "orig_nbformat": 4,
  "vscode": {
   "interpreter": {
    "hash": "112d7ea7cfb75620c0f3c0b178159a252c62f12730ea543028c7e47275c4811c"
   }
  }
 },
 "nbformat": 4,
 "nbformat_minor": 2
}
