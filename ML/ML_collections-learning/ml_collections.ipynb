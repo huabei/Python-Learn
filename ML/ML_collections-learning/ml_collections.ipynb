{
 "cells": [
  {
   "attachments": {},
   "cell_type": "markdown",
   "metadata": {},
   "source": [
    "# ML Collections\n",
    "ML Collections是一个针对ML设计的Python集合库\n",
    "在这个场景下：\n",
    "field：字段"
   ]
  },
  {
   "attachments": {},
   "cell_type": "markdown",
   "metadata": {},
   "source": [
    "## ConfigDict\n",
    "两个类：`ConfigDict`和`FrozenConfigDict`。具有类似于字典的数据结构，能够通过`.`操作符获取嵌套的元素。它们应该用作表示模型和实验配置的主要方式。"
   ]
  },
  {
   "cell_type": "code",
   "execution_count": 11,
   "metadata": {},
   "outputs": [],
   "source": [
    "from ml_collections import config_dict\n",
    "cfg = config_dict.ConfigDict()\n",
    "cfg.float_field = 1.0\n",
    "cfg.integer_field = 1\n",
    "cfg.anather_interger_field = 2\n",
    "cfg.nested = config_dict.ConfigDict()\n",
    "cfg.nested.string_field = 'A'"
   ]
  },
  {
   "cell_type": "code",
   "execution_count": 12,
   "metadata": {},
   "outputs": [
    {
     "name": "stdout",
     "output_type": "stream",
     "text": [
      "1\n",
      "1\n",
      "Could not override field 'integer_field' (reference). A is of type <class 'str'> but should be of type <class 'int'>\n"
     ]
    }
   ],
   "source": [
    "print(cfg.integer_field)\n",
    "print(cfg['integer_field'])\n",
    "\n",
    "try:\n",
    "    cfg.integer_field = 'A'\n",
    "    \n",
    "except TypeError as e:\n",
    "    print(e)"
   ]
  },
  {
   "cell_type": "code",
   "execution_count": 13,
   "metadata": {},
   "outputs": [
    {
     "ename": "TypeError",
     "evalue": "Could not override field 'string_field' (reference). 12 is of type <class 'int'> but should be of type <class 'str'>",
     "output_type": "error",
     "traceback": [
      "\u001b[1;31m---------------------------------------------------------------------------\u001b[0m",
      "\u001b[1;31mTypeError\u001b[0m                                 Traceback (most recent call last)",
      "File \u001b[1;32md:\\anaconda3\\envs\\pytorch112\\lib\\site-packages\\ml_collections\\config_dict\\config_dict.py:853\u001b[0m, in \u001b[0;36mConfigDict.__setitem__\u001b[1;34m(self, key, value)\u001b[0m\n\u001b[0;32m    852\u001b[0m       value \u001b[39m=\u001b[39m ConfigDict(value, \u001b[39mself\u001b[39m\u001b[39m.\u001b[39m_type_safe)\n\u001b[1;32m--> 853\u001b[0m     value \u001b[39m=\u001b[39m _safe_cast(value, \u001b[39mtype\u001b[39;49m(field), \u001b[39mself\u001b[39;49m\u001b[39m.\u001b[39;49m_type_safe)\n\u001b[0;32m    854\u001b[0m \u001b[39mexcept\u001b[39;00m \u001b[39mTypeError\u001b[39;00m \u001b[39mas\u001b[39;00m e:\n",
      "File \u001b[1;32md:\\anaconda3\\envs\\pytorch112\\lib\\site-packages\\ml_collections\\config_dict\\config_dict.py:149\u001b[0m, in \u001b[0;36m_safe_cast\u001b[1;34m(value, field_type, type_safe)\u001b[0m\n\u001b[0;32m    148\u001b[0m \u001b[39mif\u001b[39;00m type_safe \u001b[39mand\u001b[39;00m _is_type_safety_violation(value, field_type):\n\u001b[1;32m--> 149\u001b[0m   \u001b[39mraise\u001b[39;00m \u001b[39mTypeError\u001b[39;00m(\u001b[39m'\u001b[39m\u001b[39m{}\u001b[39;00m\u001b[39m is of type \u001b[39m\u001b[39m{}\u001b[39;00m\u001b[39m but should be of type \u001b[39m\u001b[39m{}\u001b[39;00m\u001b[39m'\u001b[39m\n\u001b[0;32m    150\u001b[0m                   \u001b[39m.\u001b[39mformat(value, \u001b[39mstr\u001b[39m(original_value_type), \u001b[39mstr\u001b[39m(field_type)))\n\u001b[0;32m    151\u001b[0m \u001b[39mreturn\u001b[39;00m value\n",
      "\u001b[1;31mTypeError\u001b[0m: 12 is of type <class 'int'> but should be of type <class 'str'>",
      "\nDuring handling of the above exception, another exception occurred:\n",
      "\u001b[1;31mTypeError\u001b[0m                                 Traceback (most recent call last)",
      "Cell \u001b[1;32mIn[13], line 2\u001b[0m\n\u001b[0;32m      1\u001b[0m cfg\u001b[39m.\u001b[39mfloat_field \u001b[39m=\u001b[39m \u001b[39m12\u001b[39m\n\u001b[1;32m----> 2\u001b[0m cfg\u001b[39m.\u001b[39mnested\u001b[39m.\u001b[39mstring_field \u001b[39m=\u001b[39m \u001b[39m12\u001b[39m\n",
      "File \u001b[1;32md:\\anaconda3\\envs\\pytorch112\\lib\\site-packages\\ml_collections\\config_dict\\config_dict.py:814\u001b[0m, in \u001b[0;36mConfigDict.__setattr__\u001b[1;34m(self, attribute, value)\u001b[0m\n\u001b[0;32m    812\u001b[0m \u001b[39mtry\u001b[39;00m:\n\u001b[0;32m    813\u001b[0m   \u001b[39mself\u001b[39m\u001b[39m.\u001b[39m_ensure_mutability(attribute)\n\u001b[1;32m--> 814\u001b[0m   \u001b[39mself\u001b[39m[attribute] \u001b[39m=\u001b[39m value\n\u001b[0;32m    815\u001b[0m \u001b[39mexcept\u001b[39;00m \u001b[39mKeyError\u001b[39;00m \u001b[39mas\u001b[39;00m e:\n\u001b[0;32m    816\u001b[0m   \u001b[39mraise\u001b[39;00m \u001b[39mAttributeError\u001b[39;00m(e)\n",
      "File \u001b[1;32md:\\anaconda3\\envs\\pytorch112\\lib\\site-packages\\ml_collections\\config_dict\\config_dict.py:855\u001b[0m, in \u001b[0;36mConfigDict.__setitem__\u001b[1;34m(self, key, value)\u001b[0m\n\u001b[0;32m    853\u001b[0m       value \u001b[39m=\u001b[39m _safe_cast(value, \u001b[39mtype\u001b[39m(field), \u001b[39mself\u001b[39m\u001b[39m.\u001b[39m_type_safe)\n\u001b[0;32m    854\u001b[0m   \u001b[39mexcept\u001b[39;00m \u001b[39mTypeError\u001b[39;00m \u001b[39mas\u001b[39;00m e:\n\u001b[1;32m--> 855\u001b[0m     \u001b[39mraise\u001b[39;00m \u001b[39mTypeError\u001b[39;00m(\u001b[39m'\u001b[39m\u001b[39mCould not override field \u001b[39m\u001b[39m\\'\u001b[39;00m\u001b[39m{}\u001b[39;00m\u001b[39m\\'\u001b[39;00m\u001b[39m (reference). \u001b[39m\u001b[39m{}\u001b[39;00m\u001b[39m'\u001b[39m\n\u001b[0;32m    856\u001b[0m                     \u001b[39m.\u001b[39mformat(key, \u001b[39mstr\u001b[39m(e)))\n\u001b[0;32m    858\u001b[0m \u001b[39mif\u001b[39;00m \u001b[39misinstance\u001b[39m(value, \u001b[39mdict\u001b[39m) \u001b[39mand\u001b[39;00m \u001b[39mself\u001b[39m\u001b[39m.\u001b[39m_convert_dict:\n\u001b[0;32m    859\u001b[0m   value \u001b[39m=\u001b[39m ConfigDict(value, \u001b[39mself\u001b[39m\u001b[39m.\u001b[39m_type_safe)\n",
      "\u001b[1;31mTypeError\u001b[0m: Could not override field 'string_field' (reference). 12 is of type <class 'int'> but should be of type <class 'str'>"
     ]
    }
   ],
   "source": [
    "cfg.float_field = 12\n",
    "cfg.nested.string_field = 12"
   ]
  },
  {
   "cell_type": "code",
   "execution_count": 15,
   "metadata": {},
   "outputs": [
    {
     "name": "stdout",
     "output_type": "stream",
     "text": [
      "anather_interger_field: 2\n",
      "float_field: 12.0\n",
      "integer_field: 1\n",
      "nested:\n",
      "  string_field: A\n",
      "\n"
     ]
    }
   ],
   "source": [
    "print(cfg)"
   ]
  },
  {
   "attachments": {},
   "cell_type": "markdown",
   "metadata": {},
   "source": [
    "## FrozenConfigDict\n",
    "`FrozenConfigDict`是不可修改且唯一的`ConfigDict`，例如：传入`FrozenConfigDict`的列表会被转换为元组，集合会转换为冻结的集合，其中的属性不能够重新赋值。从而冻结配置。"
   ]
  },
  {
   "cell_type": "code",
   "execution_count": 16,
   "metadata": {},
   "outputs": [],
   "source": [
    "from ml_collections import config_dict\n",
    "\n",
    "initial_dictionary = {\n",
    "    'int': 1,\n",
    "    'list': [1, 2],\n",
    "    'tuple': (1, 2, 3),\n",
    "    'set': {1, 2, 3, 4},\n",
    "    'dict_tuple_list': {'tuple_list': ([1, 2], 3)}\n",
    "}"
   ]
  },
  {
   "cell_type": "code",
   "execution_count": 17,
   "metadata": {},
   "outputs": [],
   "source": [
    "cfg = config_dict.ConfigDict(initial_dictionary)\n",
    "frozen_dict = config_dict.FrozenConfigDict(initial_dictionary)"
   ]
  },
  {
   "cell_type": "code",
   "execution_count": 22,
   "metadata": {},
   "outputs": [
    {
     "name": "stdout",
     "output_type": "stream",
     "text": [
      "(1, 2, 3)\n",
      "(1, 2)\n",
      "frozenset({1, 2, 3, 4})\n",
      "((1, 2), 3)\n",
      "<class 'ml_collections.config_dict.config_dict.FrozenConfigDict'>\n"
     ]
    }
   ],
   "source": [
    "print(frozen_dict.tuple)\n",
    "print(frozen_dict.list)\n",
    "print(frozen_dict.set)\n",
    "print(frozen_dict.dict_tuple_list.tuple_list)\n",
    "print(type(frozen_dict.dict_tuple_list))"
   ]
  },
  {
   "cell_type": "code",
   "execution_count": 24,
   "metadata": {},
   "outputs": [
    {
     "name": "stdout",
     "output_type": "stream",
     "text": [
      "True\n",
      "True\n"
     ]
    }
   ],
   "source": [
    "frozen_cfg = config_dict.FrozenConfigDict(cfg)\n",
    "print(frozen_cfg == frozen_dict)  # True\n",
    "print(hash(frozen_cfg) == hash(frozen_dict))  # True"
   ]
  },
  {
   "cell_type": "code",
   "execution_count": 25,
   "metadata": {},
   "outputs": [
    {
     "name": "stdout",
     "output_type": "stream",
     "text": [
      "FrozenConfigDict is immutable. Cannot call __setattr__().\n"
     ]
    }
   ],
   "source": [
    "try:\n",
    "  frozen_dict.int = 2 # Raises TypeError as FrozenConfigDict is immutable.\n",
    "except AttributeError as e:\n",
    "  print(e)"
   ]
  },
  {
   "cell_type": "code",
   "execution_count": null,
   "metadata": {},
   "outputs": [],
   "source": [
    "# Converting between `FrozenConfigDict` and `ConfigDict`:\n",
    "thawed_frozen_cfg = config_dict.ConfigDict(frozen_dict)\n",
    "print(thawed_frozen_cfg == cfg)  # True\n",
    "frozen_cfg_to_cfg = frozen_dict.as_configdict()\n",
    "print(frozen_cfg_to_cfg == cfg)  # True"
   ]
  },
  {
   "attachments": {},
   "cell_type": "markdown",
   "metadata": {},
   "source": [
    "## FieldReferences and placeholders\n",
    "`FieldReference`可以用于多个位置使用一个值的场景，通过使用`FieldReference`作为这个值的引用。其也可以用于延迟求值（特别用于匿名式函数编程，表达式不在它被绑定到变量之后就立即求值，而是在该值被取用的时候求值。）。可以使用`placeholder(field)`作为创建`FieldReference(field)`的快捷方式，默认值为`None`。对于程序要使用可选的配置项的时候很有用。"
   ]
  },
  {
   "cell_type": "code",
   "execution_count": 28,
   "metadata": {},
   "outputs": [
    {
     "name": "stdout",
     "output_type": "stream",
     "text": [
      "Could not override field 'optional' (reference). A is of type <class 'str'> but should be of type <class 'int'>\n",
      "nested:\n",
      "  placeholder: 5\n",
      "optional: 1\n",
      "placeholder: 5\n",
      "\n"
     ]
    }
   ],
   "source": [
    "from ml_collections import config_dict\n",
    "\n",
    "placeholder = config_dict.FieldReference(0) # 使用FieldReference()创建占位符\n",
    "cfg = config_dict.ConfigDict()\n",
    "cfg.placeholder = placeholder\n",
    "cfg.optional = config_dict.placeholder(int) # 使用placeholder()创建占位符\n",
    "cfg.nested = config_dict.ConfigDict()\n",
    "cfg.nested.placeholder = placeholder\n",
    "\n",
    "try:\n",
    "    cfg.optional = 'A' # cfg.optional 的占位符使用的是int类型，所以这里会报错\n",
    "except TypeError as e:\n",
    "    print(e)\n",
    "    \n",
    "cfg.optional = 1 # cfg.optional 的占位符使用的是int类型，所以这里不会报错\n",
    "cfg.placeholder = 5 # 这个占位符存在于两个位置，所以同时会改变两个位置的值\n",
    "\n",
    "print(cfg)"
   ]
  },
  {
   "attachments": {},
   "cell_type": "markdown",
   "metadata": {},
   "source": [
    "注意，如果通过`ConfigDict`访问，则`FieldReference`提供的间接寻址将丢失。即调用`FieldReference`对象之后就会产生具体的值。"
   ]
  },
  {
   "cell_type": "code",
   "execution_count": 32,
   "metadata": {},
   "outputs": [
    {
     "name": "stdout",
     "output_type": "stream",
     "text": [
      "field1: 1\n",
      "field2: 1\n",
      "field3: 0\n",
      "\n"
     ]
    }
   ],
   "source": [
    "from ml_collections import config_dict\n",
    "\n",
    "cfg = config_dict.ConfigDict()\n",
    "placeholder = config_dict.FieldReference(0)\n",
    "cfg.field1 = placeholder\n",
    "cfg.field2 = placeholder  # field2会和field1指向同一个占位符\n",
    "cfg.field3 = cfg.field1  # field3只是一个整型字段，并且初始化为0，不是占位符。\n",
    "\n",
    "placeholder = 1 # 这不会改变cfg.field1和cfg.field2的值\n",
    "cfg.field1 = 1 # 在`ConfigDict`中，可以对占位符进行替换。\n",
    "print(cfg)"
   ]
  },
  {
   "attachments": {},
   "cell_type": "markdown",
   "metadata": {},
   "source": [
    "## 延迟求值\n",
    "\n",
    "使用`FieldReference`进行标准的算数操作（加减乘除等）将会返回`FieldReference`类型对象，指向原始的值和算数操作。可以使用`FieldReference.get()`运行这个操作，得到计算后的值。使用`FieldReference.set()`用来改变最初的占位符值，但是算数操作不变。"
   ]
  },
  {
   "cell_type": "code",
   "execution_count": 34,
   "metadata": {},
   "outputs": [
    {
     "name": "stdout",
     "output_type": "stream",
     "text": [
      "1\n",
      "11\n",
      "11\n",
      "11\n",
      "15\n"
     ]
    }
   ],
   "source": [
    "from ml_collections import config_dict\n",
    "\n",
    "ref = config_dict.FieldReference(1) # ref是一个占位符，初始化为1\n",
    "print(ref.get())  # Prints 1\n",
    "\n",
    "add_ten = ref.get() + 10  # ref.get()是一个整型，所以可以进行加法运算\n",
    "add_ten_lazy = ref + 10  # ref是一个占位符，所以可以进行加法运算，但是不会立即计算，而是在调用get()时才会计算\n",
    "\n",
    "print(add_ten)  # Prints 11\n",
    "print(add_ten_lazy.get())  # Prints 11 because ref's value is 1\n",
    "\n",
    "# 因为加法是延时计算的，所以改变ref的值，将会改变和10相加的值。\n",
    "ref.set(5)\n",
    "print(add_ten)  # Prints 11\n",
    "print(add_ten_lazy.get())  # Prints 15 because ref's value is 5"
   ]
  },
  {
   "attachments": {},
   "cell_type": "markdown",
   "metadata": {},
   "source": [
    "如果`FieldReference`初始值为`None`或者运算符的参数有`None`，那么最终延时计算的结果就是`None`。\n",
    "\n",
    "可以通过`ConfigDict.get_ref(field)`将`ConfigDict`中的某个字段转换为`FieldReference`并初始化，可以进行延时求值。"
   ]
  },
  {
   "cell_type": "code",
   "execution_count": 35,
   "metadata": {},
   "outputs": [
    {
     "name": "stdout",
     "output_type": "stream",
     "text": [
      "5.0\n",
      "7.5\n",
      "7.0\n",
      "10.5\n"
     ]
    }
   ],
   "source": [
    "from ml_collections import config_dict\n",
    "\n",
    "config = config_dict.ConfigDict()\n",
    "config.reference_field = config_dict.FieldReference(1) # 创建一个占位符，并初始化为1\n",
    "config.integer_field = 2\n",
    "config.float_field = 2.5\n",
    "\n",
    "# 不会进行延时求值\n",
    "config.no_lazy = config.integer_field * config.float_field\n",
    "\n",
    "# 将会对config.integer_field 进行延时求值\n",
    "config.lazy_integer = config.get_ref('integer_field') * config.float_field\n",
    "\n",
    "# 将会对config.float_field进行延时求值\n",
    "config.lazy_float = config.integer_field * config.get_ref('float_field')\n",
    "\n",
    "config.integer_field = 3\n",
    "print(config.no_lazy)  # Prints 5.0 - It uses integer_field's original value\n",
    "\n",
    "print(config.lazy_integer)  # Prints 7.5\n",
    "\n",
    "config.float_field = 3.5\n",
    "print(config.lazy_float)  # Prints 7.0"
   ]
  }
 ],
 "metadata": {
  "kernelspec": {
   "display_name": "pytorch112",
   "language": "python",
   "name": "python3"
  },
  "language_info": {
   "codemirror_mode": {
    "name": "ipython",
    "version": 3
   },
   "file_extension": ".py",
   "mimetype": "text/x-python",
   "name": "python",
   "nbconvert_exporter": "python",
   "pygments_lexer": "ipython3",
   "version": "3.10.9"
  },
  "orig_nbformat": 4,
  "vscode": {
   "interpreter": {
    "hash": "010eda6e9a4605d963edba6f6aa9e52c5868921d0d201a2cb7acfc2f94cccee8"
   }
  }
 },
 "nbformat": 4,
 "nbformat_minor": 2
}
