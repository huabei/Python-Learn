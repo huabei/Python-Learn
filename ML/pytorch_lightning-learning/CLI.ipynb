{
 "cells": [
  {
   "attachments": {},
   "cell_type": "markdown",
   "metadata": {},
   "source": [
    "# 从命令行配置超参数\n",
    "在运行深度学习实验的时候，建议遵循一些良好的做法：\n",
    "- 将配置和源码分开\n",
    "- 保证实验的重复性\n",
    "使用CLI（command line interface)可以帮助达到这个目的。"
   ]
  },
  {
   "attachments": {},
   "cell_type": "markdown",
   "metadata": {},
   "source": [
    "## 实现CLI\n",
    "实现CLI只需要实例化`LightningCLI`类，以`LightningModule`和`LightningDataModule`(可选)作为参数。"
   ]
  },
  {
   "cell_type": "code",
   "execution_count": null,
   "metadata": {},
   "outputs": [],
   "source": [
    "# main.py\n",
    "from pytorch_lightning.cli import LightningCLI\n",
    "\n",
    "# simple demo classes for your convenience\n",
    "from pytorch_lightning.demos.boring_classes import DemoModel, BoringDataModule\n",
    "\n",
    "\n",
    "def cli_main():\n",
    "    cli = LightningCLI(DemoModel, BoringDataModule)\n",
    "    # note: don't call fit!!\n",
    "\n",
    "\n",
    "if __name__ == \"__main__\":\n",
    "    cli_main()\n",
    "    # note: it is good practice to implement the CLI in a function and call it in the main if block"
   ]
  },
  {
   "attachments": {},
   "cell_type": "markdown",
   "metadata": {},
   "source": [
    "现在便可以使用CLI控制模型了，可以通过以下命令查看可以使用的命令：\n",
    "```shell\n",
    "python main.py --help\n",
    "```"
   ]
  },
  {
   "attachments": {},
   "cell_type": "markdown",
   "metadata": {},
   "source": [
    "可以添加的选项包括`LightningModule`和`LightningDataModule`的构造函数`__init__`的参数。"
   ]
  },
  {
   "attachments": {},
   "cell_type": "markdown",
   "metadata": {},
   "source": [
    "## 使用多模型和多数据集"
   ]
  },
  {
   "attachments": {},
   "cell_type": "markdown",
   "metadata": {},
   "source": [
    "```shell\n",
    "# Mix and match anything\n",
    "$ python main.py fit --model=GAN --data=MNIST\n",
    "$ python main.py fit --model=Transformer --data=MNIST\n",
    "```"
   ]
  },
  {
   "attachments": {},
   "cell_type": "markdown",
   "metadata": {},
   "source": [
    "### 多模型\n",
    "在实例化`LightningCLI`时忽略`model_class`参数，便可以支持多模型。"
   ]
  },
  {
   "cell_type": "code",
   "execution_count": null,
   "metadata": {},
   "outputs": [],
   "source": [
    "# main.py\n",
    "from pytorch_lightning.cli import LightningCLI\n",
    "from pytorch_lightning.demos.boring_classes import DemoModel\n",
    "\n",
    "\n",
    "class Model1(DemoModel):\n",
    "    def configure_optimizers(self):\n",
    "        print(\"⚡\", \"using Model1\", \"⚡\")\n",
    "        return super().configure_optimizers()\n",
    "\n",
    "\n",
    "class Model2(DemoModel):\n",
    "    def configure_optimizers(self):\n",
    "        print(\"⚡\", \"using Model2\", \"⚡\")\n",
    "        return super().configure_optimizers()\n",
    "\n",
    "\n",
    "cli = LightningCLI(datamodule_class=BoringDataModule)"
   ]
  },
  {
   "attachments": {},
   "cell_type": "markdown",
   "metadata": {},
   "source": [
    "这样便可以从CLI选择模型\n",
    "```shell\n",
    "# use Model1\n",
    "python main.py fit --model Model1\n",
    "\n",
    "# use Model2\n",
    "python main.py fit --model Model2\n",
    "```\n"
   ]
  },
  {
   "attachments": {},
   "cell_type": "markdown",
   "metadata": {},
   "source": [
    "\n",
    "也可以给`model_class`传入一个基类，并且指定`subclass_mode_model=True`，而不是省略`model_class`参数，这将使程序只接受此基类下的子类。\n"
   ]
  },
  {
   "attachments": {},
   "cell_type": "markdown",
   "metadata": {},
   "source": [
    "### 多数据模块\n",
    "和多模型类似，在实例化`LightningCLI`的时候忽略`datamodule_class`参数，可以让程序支持多数据模块。"
   ]
  },
  {
   "cell_type": "code",
   "execution_count": null,
   "metadata": {},
   "outputs": [],
   "source": [
    "# main.py\n",
    "import torch\n",
    "from pytorch_lightning.cli import LightningCLI\n",
    "from pytorch_lightning.demos.boring_classes import BoringDataModule\n",
    "\n",
    "\n",
    "class FakeDataset1(BoringDataModule):\n",
    "    def train_dataloader(self):\n",
    "        print(\"⚡\", \"using FakeDataset1\", \"⚡\")\n",
    "        return torch.utils.data.DataLoader(self.random_train)\n",
    "\n",
    "\n",
    "class FakeDataset2(BoringDataModule):\n",
    "    def train_dataloader(self):\n",
    "        print(\"⚡\", \"using FakeDataset2\", \"⚡\")\n",
    "        return torch.utils.data.DataLoader(self.random_train)\n",
    "\n",
    "\n",
    "cli = LightningCLI(DemoModel)"
   ]
  },
  {
   "attachments": {},
   "cell_type": "markdown",
   "metadata": {},
   "source": [
    "```\n",
    "# use Model1\n",
    "python main.py fit --data FakeDataset1\n",
    "\n",
    "# use Model2\n",
    "python main.py fit --data FakeDataset2\n",
    "```\n",
    "类似的，给`datamodule_class`传入一个基类，并设置`subclass_mode_data=True`，可以让程序只接受此基类的子类。"
   ]
  },
  {
   "attachments": {},
   "cell_type": "markdown",
   "metadata": {},
   "source": [
    "### 多优化器\n",
    "`torch.optim`当中的优化器开箱即用。\n",
    "```\n",
    "python main.py fit --optimizer AdamW\n",
    "```\n",
    "如果想要使用的优化器需要其它的参数，可以通过CLI添加，不需要改变代码！\n",
    "```\n",
    "python main.py fit --optimizer SGD --optimizer.lr=0.01\n",
    "```\n",
    "另外，任何基于`torch.optim.Optimizer`的定制优化器都可以用。"
   ]
  },
  {
   "attachments": {},
   "cell_type": "markdown",
   "metadata": {},
   "source": [
    "### 多schedulers\n",
    "`torch.optim.lr_scheduler`中的学习率schedulers开箱即用：\n",
    "```\n",
    "python main.py fit --lr_scheduler CosineAnnealingLR\n",
    "```\n",
    "如果使用的scheduler需要其它参数，通过CLI添加，不需要改变代码！\n",
    "```\n",
    "python main.py fit --lr_scheduler=ReduceLROnPlateau --lr_scheduler.monitor=epoch\n",
    "```\n",
    "另外，任何基于`torch.optim.lr_scheduler.LRScheduler`的定制scheduler都可以使用。"
   ]
  },
  {
   "attachments": {},
   "cell_type": "markdown",
   "metadata": {},
   "source": [
    "### 使用其它包中的类\n",
    "之前的例子中，可选择的类都在一个python文件中定义，另外在导入其它包中的类后，也可以直接使用"
   ]
  },
  {
   "cell_type": "code",
   "execution_count": null,
   "metadata": {},
   "outputs": [],
   "source": [
    "from pytorch_lightning.cli import LightningCLI\n",
    "import my_code.models  # noqa: F401\n",
    "import my_code.data_modules  # noqa: F401\n",
    "import my_code.optimizers  # noqa: F401\n",
    "\n",
    "cli = LightningCLI()\n",
    "# noqa：F401是为了避免pylint报错"
   ]
  },
  {
   "attachments": {},
   "cell_type": "markdown",
   "metadata": {},
   "source": [
    "也可以使用完整的导入路径。\n",
    "```\n",
    "python main.py fit --model my_code.models.Model1\n",
    "```"
   ]
  },
  {
   "attachments": {},
   "cell_type": "markdown",
   "metadata": {},
   "source": [
    "当处于多模型模式，主帮助文档不包含这些模型或数据模块的参数，需要通过以下方式显示：\n",
    "```\n",
    "python main.py fit --model.help Model1\n",
    "python main.py fit --data.help FakeDataset2\n",
    "python main.py fit --optimizer.help Adagrad\n",
    "python main.py fit --lr_scheduler.help StepLR\n",
    "```"
   ]
  },
  {
   "attachments": {},
   "cell_type": "markdown",
   "metadata": {},
   "source": [
    "## YAML\n",
    "随着项目变得越来越复杂，需要配置的参数变得非常多，让使用CLI变得不方便。为了解决这个问题，`LightningCLI`支持从配置文件接受输入。默认的配置文件格式为YAML。"
   ]
  },
  {
   "attachments": {},
   "cell_type": "markdown",
   "metadata": {},
   "source": [
    "使用yaml配置文件\n",
    "```\n",
    "python main.py fit --config config.yaml\n",
    "```\n",
    "单独给的参数可以覆盖配置文件中的参数\n",
    "```\n",
    "python main.py fit --config config.yaml --trainer.max_epochs 100\n",
    "```"
   ]
  },
  {
   "attachments": {},
   "cell_type": "markdown",
   "metadata": {},
   "source": [
    "## 自动保存配置\n",
    "`LightningCLI`会自动保存YAML配置在日志文件夹。以后可以通过这些保存的文件重复实验。\n",
    "\n",
    "可以通过设置`save_config_callback=None`关闭自动保存。"
   ]
  },
  {
   "cell_type": "code",
   "execution_count": null,
   "metadata": {},
   "outputs": [],
   "source": [
    "# 定义日志名\n",
    "cli = LightningCLI(..., save_config_kwargs={\"config_filename\": \"name.yaml\"})"
   ]
  },
  {
   "attachments": {},
   "cell_type": "markdown",
   "metadata": {},
   "source": [
    "## 为CLI准备配置文件\n",
    "从头开始编写配置可以既耗时又容易出错。为了缓解这种情况，CLI有`--print_config`参数，它可以打印配置到标准输出。\n",
    "```\n",
    "python main.py fit --print_config\n",
    "```\n",
    "如果使用多个模型，没有指定模型的情况下不会给出模型的超参数，所以可以指定模型后打印：\n",
    "```\n",
    "python main.py fit --model DemoModel --print_config\n",
    "```"
   ]
  },
  {
   "attachments": {},
   "cell_type": "markdown",
   "metadata": {},
   "source": [
    "一个标准的实验流程可以是：\n",
    "```\n",
    "# Print a configuration to have as reference\n",
    "python main.py fit --print_config > config.yaml\n",
    "# Modify the config to your liking - you can remove all default arguments\n",
    "nano config.yaml\n",
    "# Fit your model using the edited configuration\n",
    "python main.py fit --config config.yaml\n",
    "```"
   ]
  },
  {
   "attachments": {},
   "cell_type": "markdown",
   "metadata": {},
   "source": [
    "另外可以使用多个配置文件，重复的项后面覆盖前面：\n",
    "```\n",
    "$ python main.py fit --config config_1.yaml --config config_2.yaml\n",
    "```\n",
    "可以分组传入参数：\n",
    "```\n",
    "$ python main.py fit --trainer trainer.yaml --model model.yaml --data data.yaml [...]\n",
    "```"
   ]
  },
  {
   "attachments": {},
   "cell_type": "markdown",
   "metadata": {},
   "source": [
    "# 高级用法\n",
    "根据子命令选择配置\n",
    "```\n",
    "# config.yaml\n",
    "fit:\n",
    "    trainer:\n",
    "        max_steps: 100\n",
    "test:\n",
    "    trainer:\n",
    "        max_epochs: 10\n",
    "```\n",
    "将配置文件放在子命令前：\n",
    "```\n",
    "# full routine with max_steps = 100\n",
    "$ python main.py --config config.yaml fit\n",
    "\n",
    "# test only with max_epochs = 10\n",
    "$ python main.py --config config.yaml test\n",
    "```"
   ]
  },
  {
   "attachments": {},
   "cell_type": "markdown",
   "metadata": {},
   "source": [
    "## 设置默认的配置文件"
   ]
  },
  {
   "cell_type": "code",
   "execution_count": null,
   "metadata": {},
   "outputs": [],
   "source": [
    "cli = LightningCLI(MyModel, MyDataModule, parser_kwargs={\"default_config_files\": [\"my_cli_defaults.yaml\"]})\n",
    "# or\n",
    "cli = LightningCLI(MyModel, MyDataModule, parser_kwargs={\"fit\": {\"default_config_files\": [\"my_fit_defaults.yaml\"]}})"
   ]
  },
  {
   "attachments": {},
   "cell_type": "markdown",
   "metadata": {},
   "source": [
    "默认情况下CLI会自动运行输入的子命令，可以关闭自动运行，并手动运行"
   ]
  },
  {
   "cell_type": "code",
   "execution_count": null,
   "metadata": {},
   "outputs": [],
   "source": [
    "cli = LightningCLI(MyModel, run=False)  # True by default\n",
    "# you'll have to call fit yourself:\n",
    "cli.trainer.fit(cli.model)"
   ]
  },
  {
   "attachments": {},
   "cell_type": "markdown",
   "metadata": {},
   "source": [
    "## 从python中运行\n",
    "给`cli_main()`函数传入args参数。"
   ]
  },
  {
   "cell_type": "code",
   "execution_count": null,
   "metadata": {},
   "outputs": [],
   "source": [
    "from pytorch_lightning.cli import ArgsType, LightningCLI\n",
    "\n",
    "\n",
    "def cli_main(args: ArgsType = None):\n",
    "    cli = LightningCLI(MyModel, ..., args=args)\n",
    "    ...\n",
    "\n",
    "\n",
    "if __name__ == \"__main__\":\n",
    "    cli_main()"
   ]
  },
  {
   "attachments": {},
   "cell_type": "markdown",
   "metadata": {},
   "source": [
    "然后在另一个文件中导入并调用`cli_main()`，args可以传入一个字符串，字典或者 jsonargparse.Namespace"
   ]
  },
  {
   "cell_type": "code",
   "execution_count": null,
   "metadata": {},
   "outputs": [],
   "source": [
    "args = {\n",
    "    \"trainer\": {\n",
    "        \"max_epochs\": 100,\n",
    "    },\n",
    "    \"model\": {},\n",
    "}\n",
    "\n",
    "args[\"model\"][\"encoder_layers\"] = 8\n",
    "cli_main(args)\n",
    "args[\"model\"][\"encoder_layers\"] = 12\n",
    "cli_main(args)\n",
    "args[\"trainer\"][\"max_epochs\"] = 200\n",
    "cli_main(args)\n"
   ]
  }
 ],
 "metadata": {
  "kernelspec": {
   "display_name": "pytorch112",
   "language": "python",
   "name": "python3"
  },
  "language_info": {
   "name": "python",
   "version": "3.10.9"
  },
  "orig_nbformat": 4,
  "vscode": {
   "interpreter": {
    "hash": "010eda6e9a4605d963edba6f6aa9e52c5868921d0d201a2cb7acfc2f94cccee8"
   }
  }
 },
 "nbformat": 4,
 "nbformat_minor": 2
}
