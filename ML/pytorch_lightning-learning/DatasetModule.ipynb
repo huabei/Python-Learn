{
 "cells": [
  {
   "attachments": {},
   "cell_type": "markdown",
   "metadata": {},
   "source": [
    "# LightningDataModule\n",
    "datamodule是一个能够分享、重用的类，封装了处理数据所需的所有步骤。\n",
    "\n",
    "datamodule封装了pytorch中数据处理的五个步骤：\n",
    "1. 下载/标记/处理\n",
    "2. 清理并且（或者）存储到硬盘\n",
    "3. 载入已有Dataset\n",
    "4. 应用转换（旋转，标记等）\n",
    "5. 包装到DataLoader中\n",
    "\n",
    "这些类可以被分享和使用。"
   ]
  },
  {
   "cell_type": "code",
   "execution_count": 1,
   "metadata": {},
   "outputs": [],
   "source": [
    "import pytorch_lightning as pl\n",
    "a = 1"
   ]
  },
  {
   "cell_type": "code",
   "execution_count": null,
   "metadata": {},
   "outputs": [],
   "source": [
    "from pl_bolts.datamodules import CIFAR10DataModule, ImagenetDataModule\n",
    "\n",
    "model = LitClassifier()\n",
    "trainer = Trainer()\n",
    "\n",
    "imagenet = ImagenetDataModule()\n",
    "trainer.fit(model, datamodule=imagenet)\n",
    "\n",
    "cifar10 = CIFAR10DataModule()\n",
    "trainer.fit(model, datamodule=cifar10)"
   ]
  },
  {
   "attachments": {},
   "cell_type": "markdown",
   "metadata": {},
   "source": [
    "一个DataModule是一个集合，包括train_dataloader(s),val_dataloader(s),test_dataloader(s)和predict_dataloader(s),以及相应的转换和数据下载处理步骤。\n",
    "\n",
    "以下是常规的pytorch数据处理代码"
   ]
  },
  {
   "cell_type": "code",
   "execution_count": null,
   "metadata": {},
   "outputs": [],
   "source": [
    "# regular PyTorch\n",
    "test_data = MNIST(my_path, train=False, download=True)\n",
    "predict_data = MNIST(my_path, train=False, download=True)\n",
    "train_data = MNIST(my_path, train=True, download=True)\n",
    "train_data, val_data = random_split(train_data, [55000, 5000])\n",
    "\n",
    "train_loader = DataLoader(train_data, batch_size=32)\n",
    "val_loader = DataLoader(val_data, batch_size=32)\n",
    "test_loader = DataLoader(test_data, batch_size=32)\n",
    "predict_loader = DataLoader(predict_data, batch_size=32)"
   ]
  },
  {
   "attachments": {},
   "cell_type": "markdown",
   "metadata": {},
   "source": [
    "等价的DataModule只是将这些代码重新组织，但是能够让它们在不同的项目中使用。"
   ]
  },
  {
   "cell_type": "code",
   "execution_count": null,
   "metadata": {},
   "outputs": [],
   "source": [
    "class MNISTDataModule(pl.LightningDataModule):\n",
    "    def __init__(self, data_dir: str = \"path/to/dir\", batch_size: int = 32):\n",
    "        super().__init__()\n",
    "        self.data_dir = data_dir\n",
    "        self.batch_size = batch_size\n",
    "\n",
    "    def setup(self, stage: str):\n",
    "        self.mnist_test = MNIST(self.data_dir, train=False)\n",
    "        self.mnist_predict = MNIST(self.data_dir, train=False)\n",
    "        mnist_full = MNIST(self.data_dir, train=True)\n",
    "        self.mnist_train, self.mnist_val = random_split(mnist_full, [55000, 5000])\n",
    "\n",
    "    def train_dataloader(self):\n",
    "        return DataLoader(self.mnist_train, batch_size=self.batch_size)\n",
    "\n",
    "    def val_dataloader(self):\n",
    "        return DataLoader(self.mnist_val, batch_size=self.batch_size)\n",
    "\n",
    "    def test_dataloader(self):\n",
    "        return DataLoader(self.mnist_test, batch_size=self.batch_size)\n",
    "\n",
    "    def predict_dataloader(self):\n",
    "        return DataLoader(self.mnist_predict, batch_size=self.batch_size)\n",
    "\n",
    "    def teardown(self, stage: str):\n",
    "        # Used to clean-up when the run is finished\n",
    "        ..."
   ]
  },
  {
   "attachments": {},
   "cell_type": "markdown",
   "metadata": {},
   "source": [
    "DataModule需要定义以下的方法：\n",
    "- prepare_data(下载，标记数据等)\n",
    "- setup（分割，定义数据集等）\n",
    "- train_dataloader\n",
    "- val_dataloader\n",
    "- test_dataloader\n",
    "- predict_dataloader"
   ]
  },
  {
   "attachments": {},
   "cell_type": "markdown",
   "metadata": {},
   "source": [
    "### prepare_data\n",
    "`setup()`会在`prepare_data()`之后调用，确保数据准备完毕。不建议在`prepare_data()`中分配状态（如`self.x=y`），其仅负责存储数据。"
   ]
  },
  {
   "cell_type": "code",
   "execution_count": null,
   "metadata": {},
   "outputs": [],
   "source": [
    "class MNISTDataModule(pl.LightningDataModule):\n",
    "    def prepare_data(self):\n",
    "        # download\n",
    "        MNIST(os.getcwd(), train=True, download=True, transform=transforms.ToTensor())\n",
    "        MNIST(os.getcwd(), train=False, download=True, transform=transforms.ToTensor())\n"
   ]
  },
  {
   "attachments": {},
   "cell_type": "markdown",
   "metadata": {},
   "source": [
    "### setup\n",
    "有时我们想要在每个GPU上对数据做一些操作，`setup()`用来做以下操作：\n",
    "- 创建字典\n",
    "- 分割数据集\n",
    "- 创建数据集\n",
    "- 应用数据转换\n",
    "- 等等"
   ]
  },
  {
   "cell_type": "code",
   "execution_count": null,
   "metadata": {},
   "outputs": [],
   "source": [
    "import pytorch_lightning as pl\n",
    "\n",
    "\n",
    "class MNISTDataModule(pl.LightningDataModule):\n",
    "    def setup(self, stage: str):\n",
    "        # Assign Train/val split(s) for use in Dataloaders\n",
    "        if stage == \"fit\":\n",
    "            mnist_full = MNIST(self.data_dir, train=True, download=True, transform=self.transform)\n",
    "            self.mnist_train, self.mnist_val = random_split(mnist_full, [55000, 5000])\n",
    "\n",
    "        # Assign Test split(s) for use in Dataloaders\n",
    "        if stage == \"test\":\n",
    "            self.mnist_test = MNIST(self.data_dir, train=False, download=True, transform=self.transform)"
   ]
  },
  {
   "attachments": {},
   "cell_type": "markdown",
   "metadata": {},
   "source": [
    "`setup()`方法需要一个`stage`参数，它用来区分`trainer.{fit,validate,test,predict}`状态的`setup`逻辑。`setup`在每个节点的进程上都会调用，所以这里可以设置对象状态。"
   ]
  },
  {
   "attachments": {},
   "cell_type": "markdown",
   "metadata": {},
   "source": [
    "### train_dataloader\n",
    "使用`train_dataloader()`方法生成训练数据加载器，这个加载器被`Trainer.fit()`方法使用。通常只需要使用在`setup`中定义的数据集。"
   ]
  },
  {
   "cell_type": "code",
   "execution_count": null,
   "metadata": {},
   "outputs": [],
   "source": [
    "import pytorch_lightning as pl\n",
    "\n",
    "\n",
    "class MNISTDataModule(pl.LightningDataModule):\n",
    "    def train_dataloader(self):\n",
    "        return DataLoader(self.mnist_train, batch_size=64)"
   ]
  },
  {
   "attachments": {},
   "cell_type": "markdown",
   "metadata": {},
   "source": [
    "### val_dataloader\n",
    "操作和`train_dataloader()`相同，它生成的加载器在`Trainer.fit()`和`Trainer.validate()`中使用。\n",
    "### test_dataloader\n",
    "操作同上，它生成的加载器在`Trainer.test()`方法中使用。\n",
    "### predict_dataloader\n",
    "操作同上，它生成的加载器在`Trainer.predict()`方法中使用。"
   ]
  },
  {
   "attachments": {},
   "cell_type": "markdown",
   "metadata": {},
   "source": [
    "## 使用DataModule\n",
    "使用DataModule的推荐方法非常简单："
   ]
  },
  {
   "cell_type": "code",
   "execution_count": null,
   "metadata": {},
   "outputs": [],
   "source": [
    "dm = MNISTDataModule()\n",
    "model = Model()\n",
    "trainer.fit(model, datamodule=dm)\n",
    "trainer.test(datamodule=dm)\n",
    "trainer.validate(datamodule=dm)\n",
    "trainer.predict(datamodule=dm)"
   ]
  },
  {
   "attachments": {},
   "cell_type": "markdown",
   "metadata": {},
   "source": [
    "可以通过`trainer.datamodule`和`trainer.train_dataloader`等，获取当前使用的datamodule、训练数据加载器、验证集数据加载器等。"
   ]
  },
  {
   "attachments": {},
   "cell_type": "markdown",
   "metadata": {},
   "source": [
    "## DataModule中的超参数\n",
    "和LightningModules相同，支持`save_hyperparameters()`方法。"
   ]
  },
  {
   "cell_type": "code",
   "execution_count": null,
   "metadata": {},
   "outputs": [],
   "source": [
    "import pytorch_lightning as pl\n",
    "\n",
    "\n",
    "class CustomDataModule(pl.LightningDataModule):\n",
    "    def __init__(self, *args, **kwargs):\n",
    "        super().__init__()\n",
    "        self.save_hyperparameters()\n",
    "\n",
    "    def configure_optimizers(self):\n",
    "        # access the saved hyperparameters\n",
    "        opt = optim.Adam(self.parameters(), lr=self.hparams.lr)"
   ]
  }
 ],
 "metadata": {
  "kernelspec": {
   "display_name": "pytorch112",
   "language": "python",
   "name": "python3"
  },
  "language_info": {
   "codemirror_mode": {
    "name": "ipython",
    "version": 3
   },
   "file_extension": ".py",
   "mimetype": "text/x-python",
   "name": "python",
   "nbconvert_exporter": "python",
   "pygments_lexer": "ipython3",
   "version": "3.10.9"
  },
  "orig_nbformat": 4,
  "vscode": {
   "interpreter": {
    "hash": "010eda6e9a4605d963edba6f6aa9e52c5868921d0d201a2cb7acfc2f94cccee8"
   }
  }
 },
 "nbformat": 4,
 "nbformat_minor": 2
}
