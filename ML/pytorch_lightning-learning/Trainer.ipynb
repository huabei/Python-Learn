{
 "cells": [
  {
   "attachments": {},
   "cell_type": "markdown",
   "metadata": {},
   "source": [
    "# Trainer\n",
    "一旦将模型定义好，就可以使用Trainer类来训练模型。Trainer类是PyTorch Lightning的核心类，它负责训练、验证、测试、预测、调整学习率、保存检查点、记录日志等等。Trainer类的构造函数有很多参数，但是大多数参数都有默认值，所以我们可以只设置一些必要的参数。"
   ]
  },
  {
   "cell_type": "code",
   "execution_count": null,
   "metadata": {},
   "outputs": [],
   "source": [
    "from pytorch_lightning import Trainer\n",
    "\n",
    "model = MyLightningModule()\n",
    "\n",
    "trainer = Trainer()\n",
    "trainer.fit(model, train_dataloader, val_dataloader)"
   ]
  },
  {
   "attachments": {},
   "cell_type": "markdown",
   "metadata": {},
   "source": [
    "## 使用Python脚本\n",
    "在Python脚本中，建议你使用`main`函数调用`Trainer`。"
   ]
  },
  {
   "attachments": {},
   "cell_type": "markdown",
   "metadata": {},
   "source": [
    "from argparse import ArgumentParser\n",
    "\n",
    "\n",
    "def main(hparams):\n",
    "    model = LightningModule()\n",
    "    trainer = Trainer(accelerator=hparams.accelerator, devices=hparams.devices)\n",
    "    trainer.fit(model)\n",
    "\n",
    "\n",
    "if __name__ == \"__main__\":\n",
    "    parser = ArgumentParser()\n",
    "    parser.add_argument(\"--accelerator\", default=None)\n",
    "    parser.add_argument(\"--devices\", default=None)\n",
    "    args = parser.parse_args()\n",
    "\n",
    "    main(args)"
   ]
  },
  {
   "attachments": {},
   "cell_type": "markdown",
   "metadata": {},
   "source": [
    "Trainer的`add_argparse_args()`方法已经定义好了其所需要的参数，可以直接调用。"
   ]
  },
  {
   "cell_type": "code",
   "execution_count": null,
   "metadata": {},
   "outputs": [],
   "source": [
    "from argparse import ArgumentParser\n",
    "\n",
    "\n",
    "def main(args):\n",
    "    model = LightningModule()\n",
    "    trainer = Trainer.from_argparse_args(args)\n",
    "    trainer.fit(model)\n",
    "\n",
    "\n",
    "if __name__ == \"__main__\":\n",
    "    parser = ArgumentParser()\n",
    "    parser = Trainer.add_argparse_args(parser)\n",
    "    args = parser.parse_args()\n",
    "\n",
    "    main(args)"
   ]
  },
  {
   "attachments": {},
   "cell_type": "markdown",
   "metadata": {},
   "source": [
    "可以通过这种方式运行\n",
    "python main.py --accelerator 'gpu' --devices 2 --max_steps 10 --limit_train_batches 10 --any_trainer_arg x"
   ]
  },
  {
   "attachments": {},
   "cell_type": "markdown",
   "metadata": {},
   "source": [
    "## Validation\n",
    "可以调用`validate()`方法，在训练循环之外对验证集进行评估。如果要在模型初始化或训练后从模型收集新指标，这可能很有用。"
   ]
  },
  {
   "cell_type": "code",
   "execution_count": null,
   "metadata": {},
   "outputs": [],
   "source": [
    "trainer.validate(model=model, dataloaders=val_dataloaders)"
   ]
  },
  {
   "attachments": {},
   "cell_type": "markdown",
   "metadata": {},
   "source": [
    "## Testing\n",
    "一旦你完成了训练，随时可以运行测试集！（仅在发表论文或推出产品之前）"
   ]
  },
  {
   "cell_type": "code",
   "execution_count": null,
   "metadata": {},
   "outputs": [],
   "source": [
    "trainer.test(dataloaders=test_dataloaders)"
   ]
  },
  {
   "attachments": {},
   "cell_type": "markdown",
   "metadata": {},
   "source": [
    "## 重复性\n",
    "为了在不同的运行中确保重复性，需要设置随机种子，并在`Trainer`中设置`deterministic`参数。"
   ]
  },
  {
   "cell_type": "code",
   "execution_count": null,
   "metadata": {},
   "outputs": [],
   "source": [
    "from pytorch_lightning import Trainer, seed_everything\n",
    "\n",
    "seed_everything(42, workers=True)\n",
    "# sets seeds for numpy, torch and python.random.\n",
    "model = Model()\n",
    "trainer = Trainer(deterministic=True)"
   ]
  },
  {
   "attachments": {},
   "cell_type": "markdown",
   "metadata": {},
   "source": [
    "## Trainer flags\n",
    "auto_scale_batch_size: 自动尝试找到适合显存的最大的batch size。"
   ]
  },
  {
   "cell_type": "code",
   "execution_count": null,
   "metadata": {},
   "outputs": [],
   "source": [
    "# default used by the Trainer (no scaling of batch size)\n",
    "trainer = Trainer(auto_scale_batch_size=None)\n",
    "\n",
    "# run batch size scaling, result overrides hparams.batch_size\n",
    "trainer = Trainer(auto_scale_batch_size=\"binsearch\")\n",
    "\n",
    "# call tune to find the batch size\n",
    "trainer.tune(model)"
   ]
  },
  {
   "attachments": {},
   "cell_type": "markdown",
   "metadata": {},
   "source": [
    "auto_lr_find: 使用`trainer.tune()`的时候运行学习率寻找算法，用来找到最优的初始化学习率。"
   ]
  },
  {
   "cell_type": "code",
   "execution_count": null,
   "metadata": {},
   "outputs": [],
   "source": [
    "# run learning rate finder, results override hparams.learning_rate\n",
    "trainer = Trainer(auto_lr_find=True)\n",
    "\n",
    "# call tune to find the lr\n",
    "trainer.tune(model)"
   ]
  },
  {
   "attachments": {},
   "cell_type": "markdown",
   "metadata": {},
   "source": [
    "callbacks: 添加一个`Callback`对象列表，在合适的时候会调用它。如`ModelCheckpoint`。\n",
    "devices: 指定用来训练的设备或其个数或者`auto`。"
   ]
  },
  {
   "cell_type": "code",
   "execution_count": null,
   "metadata": {},
   "outputs": [],
   "source": [
    "# If your machine has GPUs, it will use all the available GPUs for training\n",
    "trainer = Trainer(devices=\"auto\", accelerator=\"auto\")\n",
    "\n",
    "# Training with CPU Accelerator using 1 process\n",
    "trainer = Trainer(devices=\"auto\", accelerator=\"cpu\")\n",
    "\n",
    "# Training with TPU Accelerator using 8 tpu cores\n",
    "trainer = Trainer(devices=\"auto\", accelerator=\"tpu\")\n",
    "\n",
    "# Training with IPU Accelerator using 4 ipus\n",
    "trainer = Trainer(devices=\"auto\", accelerator=\"ipu\")"
   ]
  },
  {
   "attachments": {},
   "cell_type": "markdown",
   "metadata": {},
   "source": [
    "enable_checkpointing:默认会在当前工作文件夹保存断点，可以通过设为`False`关闭自动保存。"
   ]
  },
  {
   "cell_type": "code",
   "execution_count": null,
   "metadata": {},
   "outputs": [],
   "source": [
    "# default used by Trainer, saves the most recent model to a single checkpoint after each epoch\n",
    "trainer = Trainer(enable_checkpointing=True)\n",
    "\n",
    "# turn off automatic checkpointing\n",
    "trainer = Trainer(enable_checkpointing=False)"
   ]
  },
  {
   "attachments": {},
   "cell_type": "markdown",
   "metadata": {},
   "source": [
    "logger: 记录器\n",
    "max_epochs:\n",
    "max_steps:\n",
    "max_time: \n",
    "enable_progress_bar: 进度条\n",
    "resume_from_checkpoint: 从断点恢复模型"
   ]
  }
 ],
 "metadata": {
  "kernelspec": {
   "display_name": "pytorch112",
   "language": "python",
   "name": "python3"
  },
  "language_info": {
   "name": "python",
   "version": "3.10.9"
  },
  "orig_nbformat": 4,
  "vscode": {
   "interpreter": {
    "hash": "010eda6e9a4605d963edba6f6aa9e52c5868921d0d201a2cb7acfc2f94cccee8"
   }
  }
 },
 "nbformat": 4,
 "nbformat_minor": 2
}
