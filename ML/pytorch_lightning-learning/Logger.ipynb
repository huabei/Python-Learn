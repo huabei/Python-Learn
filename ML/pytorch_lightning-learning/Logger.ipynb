{
 "cells": [
  {
   "attachments": {},
   "cell_type": "markdown",
   "metadata": {},
   "source": [
    "# 追踪和可视化实验\n",
    "模型开发就像驾驶没有窗户的汽车，图表和日志提供了驾驶汽车的窗口。"
   ]
  },
  {
   "attachments": {},
   "cell_type": "markdown",
   "metadata": {},
   "source": [
    "## 追踪指标（Track metrics)\n",
    "指标可视化是了解模型在整个模型开发过程的表现的最基本但最强大的方法。\n",
    "\n",
    "可以在`LightningModule`中使用`self.log`方法记录指标。"
   ]
  },
  {
   "cell_type": "code",
   "execution_count": null,
   "metadata": {},
   "outputs": [],
   "source": [
    "class LitModel(pl.LightningModule):\n",
    "    def training_step(self, batch, batch_idx):\n",
    "        value = ...\n",
    "        self.log(\"some_value\", value)"
   ]
  },
  {
   "attachments": {},
   "cell_type": "markdown",
   "metadata": {},
   "source": [
    "使用`self.log_dict`一次性记录多个指标。"
   ]
  },
  {
   "cell_type": "code",
   "execution_count": null,
   "metadata": {},
   "outputs": [],
   "source": [
    "values = {\"loss\": loss, \"acc\": acc, \"metric_n\": metric_n}  # add more items if needed\n",
    "self.log_dict(values)\n",
    "\n",
    "# 在命令行显示进度条\n",
    "self.log(\"train_loss\", loss, prog_bar=True)"
   ]
  },
  {
   "attachments": {},
   "cell_type": "markdown",
   "metadata": {},
   "source": [
    "## 在浏览器中查看\n",
    "如果需要在浏览器中查看指标，需要使用具有这些功能的实验管理器。\n",
    "\n",
    "默认情况下，如果Tensorboard可用的话，Lightning会首先使用Tensorboard，否则使用简单的CSV记录器。"
   ]
  },
  {
   "cell_type": "code",
   "execution_count": null,
   "metadata": {},
   "outputs": [],
   "source": [
    "# every trainer already has tensorboard enabled by default (if the dependency is available)\n",
    "trainer = Trainer()"
   ]
  },
  {
   "attachments": {},
   "cell_type": "markdown",
   "metadata": {},
   "source": [
    "## 累积指标\n",
    "在`training_step`中记录的指标会依据时间线依次记录，但是对于验证集和测试集并不需要知道每一步的值，而是希望在一个epoch中计算一个统计性信息。\n",
    "\n",
    "在`validation_step`和`test_step`中使用`self.log()`会自动累积指标，在一个epoch结束后计算平均值。"
   ]
  },
  {
   "cell_type": "code",
   "execution_count": null,
   "metadata": {},
   "outputs": [],
   "source": [
    "def validation_step(self, batch, batch_idx):\n",
    "    value = batch_idx + 1\n",
    "    self.log(\"average_value\", value)\n",
    "    # 或使用其它统计值\n",
    "    self.log(..., reduce_fx='sum')"
   ]
  },
  {
   "attachments": {},
   "cell_type": "markdown",
   "metadata": {},
   "source": [
    "## 配置储存地址\n",
    "默认储存的地址是当前工作目录，可以通过在`Trainer`中指定`default_root_dir`改变存储位置。"
   ]
  },
  {
   "cell_type": "code",
   "execution_count": null,
   "metadata": {},
   "outputs": [],
   "source": [
    "Trainer(default_root_dir=\"/your/custom/path\")"
   ]
  },
  {
   "attachments": {},
   "cell_type": "markdown",
   "metadata": {},
   "source": [
    "# 中级教程"
   ]
  },
  {
   "attachments": {},
   "cell_type": "markdown",
   "metadata": {},
   "source": [
    "`self.log()`只能够记录数值指标，如果需要记录更加丰富的媒体文件，则需要先选择一个`Lightning`支持的记录器。"
   ]
  },
  {
   "cell_type": "code",
   "execution_count": null,
   "metadata": {},
   "outputs": [],
   "source": [
    "from pytorch_lightning import loggers as pl_loggers\n",
    "\n",
    "tensorboard = pl_loggers.TensorBoardLogger(save_dir=\"\")\n",
    "trainer = Trainer(logger=tensorboard)"
   ]
  },
  {
   "attachments": {},
   "cell_type": "markdown",
   "metadata": {},
   "source": [
    "然后可以直接获取这个记录器的API"
   ]
  },
  {
   "cell_type": "code",
   "execution_count": null,
   "metadata": {},
   "outputs": [],
   "source": [
    "def training_step(self):\n",
    "    tensorboard = self.logger.experiment\n",
    "    tensorboard.add_image()\n",
    "    tensorboard.add_histogram(...)\n",
    "    tensorboard.add_figure(...)"
   ]
  },
  {
   "attachments": {},
   "cell_type": "markdown",
   "metadata": {},
   "source": [
    "# Wandb\n"
   ]
  },
  {
   "cell_type": "code",
   "execution_count": null,
   "metadata": {},
   "outputs": [],
   "source": [
    "from pytorch_lightning.loggers import WandbLogger\n",
    "\n",
    "wandb_logger = WandbLogger(project=\"MNIST\", log_model=\"all\")\n",
    "trainer = Trainer(logger=wandb_logger)\n",
    "\n",
    "# log gradients and model topology\n",
    "wandb_logger.watch(model)"
   ]
  },
  {
   "attachments": {},
   "cell_type": "markdown",
   "metadata": {},
   "source": [
    "从除了`init`方法的其它任何函数获得wandb的api，然后使用它记录任何它支持的数据。"
   ]
  },
  {
   "cell_type": "code",
   "execution_count": null,
   "metadata": {},
   "outputs": [],
   "source": [
    "class MyModule(LightningModule):\n",
    "    def any_lightning_module_function_or_hook(self):\n",
    "        wandb_logger = self.logger.experiment\n",
    "        fake_images = torch.Tensor(32, 3, 28, 28)\n",
    "\n",
    "        # Option 1\n",
    "        wandb_logger.log({\"generated_images\": [wandb.Image(fake_images, caption=\"...\")]})\n",
    "\n",
    "        # Option 2 for specifically logging images\n",
    "        wandb_logger.log_image(key=\"generated_images\", images=[fake_images])"
   ]
  },
  {
   "attachments": {},
   "cell_type": "markdown",
   "metadata": {},
   "source": [
    "多个实验记录器，可以给`logger`传入一个记录器的列表。"
   ]
  },
  {
   "cell_type": "code",
   "execution_count": null,
   "metadata": {},
   "outputs": [],
   "source": [
    "from pytorch_lightning.loggers import TensorBoardLogger, WandbLogger\n",
    "\n",
    "logger1 = TensorBoardLogger()\n",
    "logger2 = WandbLogger()\n",
    "trainer = Trainer(logger=[logger1, logger2])"
   ]
  },
  {
   "attachments": {},
   "cell_type": "markdown",
   "metadata": {},
   "source": [
    "然后通过获取它们的api的方式使用它们"
   ]
  },
  {
   "cell_type": "code",
   "execution_count": null,
   "metadata": {},
   "outputs": [],
   "source": [
    "class MyModule(LightningModule):\n",
    "    def any_lightning_module_function_or_hook(self):\n",
    "        tensorboard_logger = self.loggers.experiment[0]\n",
    "        wandb_logger = self.loggers.experiment[1]\n",
    "\n",
    "        fake_images = torch.Tensor(32, 3, 28, 28)\n",
    "\n",
    "        tensorboard_logger.add_image(\"generated_images\", fake_images, 0)\n",
    "        wandb_logger.add_image(\"generated_images\", fake_images, 0)"
   ]
  }
 ],
 "metadata": {
  "kernelspec": {
   "display_name": "Python 3",
   "language": "python",
   "name": "python3"
  },
  "language_info": {
   "name": "python",
   "version": "3.10.10"
  },
  "orig_nbformat": 4,
  "vscode": {
   "interpreter": {
    "hash": "c7f69968939215a0b1213fbe04ecebf4dfac926329819d80138d3b7a9ef2daf0"
   }
  }
 },
 "nbformat": 4,
 "nbformat_minor": 2
}
